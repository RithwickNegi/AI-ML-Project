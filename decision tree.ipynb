{
 "cells": [
  {
   "cell_type": "code",
   "execution_count": 16,
   "metadata": {},
   "outputs": [],
   "source": [
    "import numpy as np\n",
    "import matplotlib.pyplot as plt\n",
    "import pandas as pd\n",
    "import seaborn as sns"
   ]
  },
  {
   "cell_type": "code",
   "execution_count": 17,
   "metadata": {},
   "outputs": [],
   "source": [
    "dataset = pd.read_csv('Car_sales.csv')"
   ]
  },
  {
   "cell_type": "code",
   "execution_count": 18,
   "metadata": {},
   "outputs": [],
   "source": [
    "dataset1=dataset.replace(to_replace =[\"Car\",\"Passenger\"],\n",
    "value =[\"0\",\"1\"])"
   ]
  },
  {
   "cell_type": "code",
   "execution_count": 19,
   "metadata": {},
   "outputs": [
    {
     "data": {
      "text/html": [
       "<div>\n",
       "<style scoped>\n",
       "    .dataframe tbody tr th:only-of-type {\n",
       "        vertical-align: middle;\n",
       "    }\n",
       "\n",
       "    .dataframe tbody tr th {\n",
       "        vertical-align: top;\n",
       "    }\n",
       "\n",
       "    .dataframe thead th {\n",
       "        text-align: right;\n",
       "    }\n",
       "</style>\n",
       "<table border=\"1\" class=\"dataframe\">\n",
       "  <thead>\n",
       "    <tr style=\"text-align: right;\">\n",
       "      <th></th>\n",
       "      <th>Manufacturer</th>\n",
       "      <th>Model</th>\n",
       "      <th>Sales_in_thousands</th>\n",
       "      <th>__year_resale_value</th>\n",
       "      <th>Vehicle_type</th>\n",
       "      <th>Price_in_thousands</th>\n",
       "      <th>Engine_size</th>\n",
       "      <th>Horsepower</th>\n",
       "      <th>Wheelbase</th>\n",
       "      <th>Width</th>\n",
       "      <th>Length</th>\n",
       "      <th>Curb_weight</th>\n",
       "      <th>Fuel_capacity</th>\n",
       "      <th>Fuel_efficiency</th>\n",
       "      <th>Latest_Launch</th>\n",
       "      <th>Power_perf_factor</th>\n",
       "    </tr>\n",
       "  </thead>\n",
       "  <tbody>\n",
       "    <tr>\n",
       "      <th>0</th>\n",
       "      <td>Acura</td>\n",
       "      <td>Integra</td>\n",
       "      <td>16.919</td>\n",
       "      <td>16.360</td>\n",
       "      <td>1</td>\n",
       "      <td>21.50</td>\n",
       "      <td>1.8</td>\n",
       "      <td>140.0</td>\n",
       "      <td>101.2</td>\n",
       "      <td>67.3</td>\n",
       "      <td>172.4</td>\n",
       "      <td>2.639</td>\n",
       "      <td>13.2</td>\n",
       "      <td>28</td>\n",
       "      <td>02-02-2012</td>\n",
       "      <td>58.280150</td>\n",
       "    </tr>\n",
       "    <tr>\n",
       "      <th>1</th>\n",
       "      <td>Acura</td>\n",
       "      <td>TL</td>\n",
       "      <td>39.384</td>\n",
       "      <td>19.875</td>\n",
       "      <td>1</td>\n",
       "      <td>28.40</td>\n",
       "      <td>3.2</td>\n",
       "      <td>225.0</td>\n",
       "      <td>108.1</td>\n",
       "      <td>70.3</td>\n",
       "      <td>192.9</td>\n",
       "      <td>3.517</td>\n",
       "      <td>17.2</td>\n",
       "      <td>25</td>\n",
       "      <td>06-03-2011</td>\n",
       "      <td>91.370778</td>\n",
       "    </tr>\n",
       "    <tr>\n",
       "      <th>2</th>\n",
       "      <td>Acura</td>\n",
       "      <td>CL</td>\n",
       "      <td>14.114</td>\n",
       "      <td>18.225</td>\n",
       "      <td>1</td>\n",
       "      <td>26.00</td>\n",
       "      <td>3.2</td>\n",
       "      <td>225.0</td>\n",
       "      <td>106.9</td>\n",
       "      <td>70.6</td>\n",
       "      <td>192.0</td>\n",
       "      <td>3.470</td>\n",
       "      <td>17.2</td>\n",
       "      <td>26</td>\n",
       "      <td>01-04-2012</td>\n",
       "      <td>NaN</td>\n",
       "    </tr>\n",
       "    <tr>\n",
       "      <th>3</th>\n",
       "      <td>Acura</td>\n",
       "      <td>RL</td>\n",
       "      <td>8.588</td>\n",
       "      <td>29.725</td>\n",
       "      <td>1</td>\n",
       "      <td>42.00</td>\n",
       "      <td>3.5</td>\n",
       "      <td>210.0</td>\n",
       "      <td>114.6</td>\n",
       "      <td>71.4</td>\n",
       "      <td>196.6</td>\n",
       "      <td>3.850</td>\n",
       "      <td>18.0</td>\n",
       "      <td>22</td>\n",
       "      <td>03-10-2011</td>\n",
       "      <td>91.389779</td>\n",
       "    </tr>\n",
       "    <tr>\n",
       "      <th>4</th>\n",
       "      <td>Audi</td>\n",
       "      <td>A4</td>\n",
       "      <td>20.397</td>\n",
       "      <td>22.255</td>\n",
       "      <td>1</td>\n",
       "      <td>23.99</td>\n",
       "      <td>1.8</td>\n",
       "      <td>150.0</td>\n",
       "      <td>102.6</td>\n",
       "      <td>68.2</td>\n",
       "      <td>178.0</td>\n",
       "      <td>2.998</td>\n",
       "      <td>16.4</td>\n",
       "      <td>27</td>\n",
       "      <td>10-08-2011</td>\n",
       "      <td>62.777639</td>\n",
       "    </tr>\n",
       "    <tr>\n",
       "      <th>...</th>\n",
       "      <td>...</td>\n",
       "      <td>...</td>\n",
       "      <td>...</td>\n",
       "      <td>...</td>\n",
       "      <td>...</td>\n",
       "      <td>...</td>\n",
       "      <td>...</td>\n",
       "      <td>...</td>\n",
       "      <td>...</td>\n",
       "      <td>...</td>\n",
       "      <td>...</td>\n",
       "      <td>...</td>\n",
       "      <td>...</td>\n",
       "      <td>...</td>\n",
       "      <td>...</td>\n",
       "      <td>...</td>\n",
       "    </tr>\n",
       "    <tr>\n",
       "      <th>152</th>\n",
       "      <td>Volvo</td>\n",
       "      <td>V40</td>\n",
       "      <td>3.545</td>\n",
       "      <td>NaN</td>\n",
       "      <td>1</td>\n",
       "      <td>24.40</td>\n",
       "      <td>1.9</td>\n",
       "      <td>160.0</td>\n",
       "      <td>100.5</td>\n",
       "      <td>67.6</td>\n",
       "      <td>176.6</td>\n",
       "      <td>3.042</td>\n",
       "      <td>15.8</td>\n",
       "      <td>25</td>\n",
       "      <td>9/21/2011</td>\n",
       "      <td>66.498812</td>\n",
       "    </tr>\n",
       "    <tr>\n",
       "      <th>153</th>\n",
       "      <td>Volvo</td>\n",
       "      <td>S70</td>\n",
       "      <td>15.245</td>\n",
       "      <td>NaN</td>\n",
       "      <td>1</td>\n",
       "      <td>27.50</td>\n",
       "      <td>2.4</td>\n",
       "      <td>168.0</td>\n",
       "      <td>104.9</td>\n",
       "      <td>69.3</td>\n",
       "      <td>185.9</td>\n",
       "      <td>3.208</td>\n",
       "      <td>17.9</td>\n",
       "      <td>25</td>\n",
       "      <td>11/24/2012</td>\n",
       "      <td>70.654495</td>\n",
       "    </tr>\n",
       "    <tr>\n",
       "      <th>154</th>\n",
       "      <td>Volvo</td>\n",
       "      <td>V70</td>\n",
       "      <td>17.531</td>\n",
       "      <td>NaN</td>\n",
       "      <td>1</td>\n",
       "      <td>28.80</td>\n",
       "      <td>2.4</td>\n",
       "      <td>168.0</td>\n",
       "      <td>104.9</td>\n",
       "      <td>69.3</td>\n",
       "      <td>186.2</td>\n",
       "      <td>3.259</td>\n",
       "      <td>17.9</td>\n",
       "      <td>25</td>\n",
       "      <td>6/25/2011</td>\n",
       "      <td>71.155978</td>\n",
       "    </tr>\n",
       "    <tr>\n",
       "      <th>155</th>\n",
       "      <td>Volvo</td>\n",
       "      <td>C70</td>\n",
       "      <td>3.493</td>\n",
       "      <td>NaN</td>\n",
       "      <td>1</td>\n",
       "      <td>45.50</td>\n",
       "      <td>2.3</td>\n",
       "      <td>236.0</td>\n",
       "      <td>104.9</td>\n",
       "      <td>71.5</td>\n",
       "      <td>185.7</td>\n",
       "      <td>3.601</td>\n",
       "      <td>18.5</td>\n",
       "      <td>23</td>\n",
       "      <td>4/26/2011</td>\n",
       "      <td>101.623357</td>\n",
       "    </tr>\n",
       "    <tr>\n",
       "      <th>156</th>\n",
       "      <td>Volvo</td>\n",
       "      <td>S80</td>\n",
       "      <td>18.969</td>\n",
       "      <td>NaN</td>\n",
       "      <td>1</td>\n",
       "      <td>36.00</td>\n",
       "      <td>2.9</td>\n",
       "      <td>201.0</td>\n",
       "      <td>109.9</td>\n",
       "      <td>72.1</td>\n",
       "      <td>189.8</td>\n",
       "      <td>3.600</td>\n",
       "      <td>21.1</td>\n",
       "      <td>24</td>\n",
       "      <td>11/14/2011</td>\n",
       "      <td>85.735655</td>\n",
       "    </tr>\n",
       "  </tbody>\n",
       "</table>\n",
       "<p>157 rows × 16 columns</p>\n",
       "</div>"
      ],
      "text/plain": [
       "    Manufacturer    Model  Sales_in_thousands  __year_resale_value  \\\n",
       "0          Acura  Integra              16.919               16.360   \n",
       "1          Acura       TL              39.384               19.875   \n",
       "2          Acura       CL              14.114               18.225   \n",
       "3          Acura       RL               8.588               29.725   \n",
       "4           Audi       A4              20.397               22.255   \n",
       "..           ...      ...                 ...                  ...   \n",
       "152        Volvo      V40               3.545                  NaN   \n",
       "153        Volvo      S70              15.245                  NaN   \n",
       "154        Volvo      V70              17.531                  NaN   \n",
       "155        Volvo      C70               3.493                  NaN   \n",
       "156        Volvo      S80              18.969                  NaN   \n",
       "\n",
       "    Vehicle_type  Price_in_thousands  Engine_size  Horsepower  Wheelbase  \\\n",
       "0              1               21.50          1.8       140.0      101.2   \n",
       "1              1               28.40          3.2       225.0      108.1   \n",
       "2              1               26.00          3.2       225.0      106.9   \n",
       "3              1               42.00          3.5       210.0      114.6   \n",
       "4              1               23.99          1.8       150.0      102.6   \n",
       "..           ...                 ...          ...         ...        ...   \n",
       "152            1               24.40          1.9       160.0      100.5   \n",
       "153            1               27.50          2.4       168.0      104.9   \n",
       "154            1               28.80          2.4       168.0      104.9   \n",
       "155            1               45.50          2.3       236.0      104.9   \n",
       "156            1               36.00          2.9       201.0      109.9   \n",
       "\n",
       "     Width  Length  Curb_weight  Fuel_capacity  Fuel_efficiency Latest_Launch  \\\n",
       "0     67.3   172.4        2.639           13.2               28    02-02-2012   \n",
       "1     70.3   192.9        3.517           17.2               25    06-03-2011   \n",
       "2     70.6   192.0        3.470           17.2               26    01-04-2012   \n",
       "3     71.4   196.6        3.850           18.0               22    03-10-2011   \n",
       "4     68.2   178.0        2.998           16.4               27    10-08-2011   \n",
       "..     ...     ...          ...            ...              ...           ...   \n",
       "152   67.6   176.6        3.042           15.8               25     9/21/2011   \n",
       "153   69.3   185.9        3.208           17.9               25    11/24/2012   \n",
       "154   69.3   186.2        3.259           17.9               25     6/25/2011   \n",
       "155   71.5   185.7        3.601           18.5               23     4/26/2011   \n",
       "156   72.1   189.8        3.600           21.1               24    11/14/2011   \n",
       "\n",
       "     Power_perf_factor  \n",
       "0            58.280150  \n",
       "1            91.370778  \n",
       "2                  NaN  \n",
       "3            91.389779  \n",
       "4            62.777639  \n",
       "..                 ...  \n",
       "152          66.498812  \n",
       "153          70.654495  \n",
       "154          71.155978  \n",
       "155         101.623357  \n",
       "156          85.735655  \n",
       "\n",
       "[157 rows x 16 columns]"
      ]
     },
     "execution_count": 19,
     "metadata": {},
     "output_type": "execute_result"
    }
   ],
   "source": [
    "dataset1"
   ]
  },
  {
   "cell_type": "code",
   "execution_count": 20,
   "metadata": {},
   "outputs": [],
   "source": [
    "X = dataset1.iloc[:, [13, 2]].values\n",
    "y = dataset1.iloc[:, 4].values"
   ]
  },
  {
   "cell_type": "code",
   "execution_count": 21,
   "metadata": {},
   "outputs": [],
   "source": [
    "from sklearn.model_selection import train_test_split\n",
    "X_train, X_test, y_train, y_test = train_test_split(X, y, test_size = 0.25)"
   ]
  },
  {
   "cell_type": "code",
   "execution_count": 22,
   "metadata": {},
   "outputs": [],
   "source": [
    "from sklearn.preprocessing import StandardScaler\n",
    "sc = StandardScaler()\n",
    "X_train = sc.fit_transform(X_train)\n",
    "X_test = sc.transform(X_test)"
   ]
  },
  {
   "cell_type": "code",
   "execution_count": 23,
   "metadata": {},
   "outputs": [
    {
     "data": {
      "text/plain": [
       "DecisionTreeClassifier(ccp_alpha=0.0, class_weight=None, criterion='entropy',\n",
       "                       max_depth=None, max_features=None, max_leaf_nodes=None,\n",
       "                       min_impurity_decrease=0.0, min_impurity_split=None,\n",
       "                       min_samples_leaf=1, min_samples_split=2,\n",
       "                       min_weight_fraction_leaf=0.0, presort='deprecated',\n",
       "                       random_state=None, splitter='best')"
      ]
     },
     "execution_count": 23,
     "metadata": {},
     "output_type": "execute_result"
    }
   ],
   "source": [
    "from sklearn.tree import DecisionTreeClassifier\n",
    "classifier = DecisionTreeClassifier(criterion = 'entropy')\n",
    "classifier.fit(X_train, y_train)"
   ]
  },
  {
   "cell_type": "code",
   "execution_count": 24,
   "metadata": {},
   "outputs": [],
   "source": [
    "y_pred = classifier.predict(X_test)"
   ]
  },
  {
   "cell_type": "code",
   "execution_count": 25,
   "metadata": {},
   "outputs": [
    {
     "data": {
      "text/plain": [
       "<matplotlib.axes._subplots.AxesSubplot at 0x7f39eefd75d0>"
      ]
     },
     "execution_count": 25,
     "metadata": {},
     "output_type": "execute_result"
    },
    {
     "data": {
      "image/png": "[encoded data removed]",
      "text/plain": [
       "<Figure size 432x288 with 2 Axes>"
      ]
     },
     "metadata": {
      "needs_background": "light"
     },
     "output_type": "display_data"
    }
   ],
   "source": [
    "from sklearn.metrics import confusion_matrix\n",
    "cm = confusion_matrix(y_test, y_pred)\n",
    "sns.heatmap(cm, annot=True, fmt=\"d\")\n"
   ]
  },
  {
   "cell_type": "code",
   "execution_count": 26,
   "metadata": {},
   "outputs": [
    {
     "name": "stderr",
     "output_type": "stream",
     "text": [
      "'c' argument looks like a single numeric RGB or RGBA sequence, which should be avoided as value-mapping will have precedence in case its length matches with 'x' & 'y'.  Please use a 2-D array with a single row if you really want to specify the same RGB or RGBA value for all points.\n",
      "'c' argument looks like a single numeric RGB or RGBA sequence, which should be avoided as value-mapping will have precedence in case its length matches with 'x' & 'y'.  Please use a 2-D array with a single row if you really want to specify the same RGB or RGBA value for all points.\n"
     ]
    },
    {
     "data": {
      "image/png": "[encoded data removed]",
      "text/plain": [
       "<Figure size 432x288 with 1 Axes>"
      ]
     },
     "metadata": {
      "needs_background": "light"
     },
     "output_type": "display_data"
    }
   ],
   "source": [
    "from matplotlib.colors import ListedColormap\n",
    "X_set, y_set = X_train, y_train\n",
    "X1, X2 = np.meshgrid(np.arange(start = X_set[:, 0].min() - 1, stop = X_set[:, 0].max() + 1, step = 0.01),\n",
    "                     np.arange(start = X_set[:, 1].min() - 1, stop = X_set[:, 1].max() + 1, step = 0.01))\n",
    "plt.contourf(X1, X2, classifier.predict(np.array([X1.ravel(), X2.ravel()]).T).reshape(X1.shape),\n",
    "             alpha = 0.2, cmap = ListedColormap(('red', 'green')))\n",
    "plt.xlim(X1.min(), X1.max())\n",
    "plt.ylim(X2.min(), X2.max())\n",
    "for i, j in enumerate(np.unique(y_set)):\n",
    "    plt.scatter(X_set[y_set == j, 0], X_set[y_set == j, 1],\n",
    "                c = ListedColormap(('red', 'green'))(i), label = j)\n",
    "plt.title('Decision Tree Classification (Training set)')\n",
    "plt.xlabel('fuel efficency')\n",
    "plt.ylabel('sales in thousand')\n",
    "plt.legend()\n",
    "plt.show()\n"
   ]
  },
  {
   "cell_type": "code",
   "execution_count": 27,
   "metadata": {},
   "outputs": [
    {
     "name": "stderr",
     "output_type": "stream",
     "text": [
      "'c' argument looks like a single numeric RGB or RGBA sequence, which should be avoided as value-mapping will have precedence in case its length matches with 'x' & 'y'.  Please use a 2-D array with a single row if you really want to specify the same RGB or RGBA value for all points.\n",
      "'c' argument looks like a single numeric RGB or RGBA sequence, which should be avoided as value-mapping will have precedence in case its length matches with 'x' & 'y'.  Please use a 2-D array with a single row if you really want to specify the same RGB or RGBA value for all points.\n"
     ]
    },
    {
     "data": {
      "image/png": "[encoded data removed]",
      "text/plain": [
       "<Figure size 432x288 with 1 Axes>"
      ]
     },
     "metadata": {
      "needs_background": "light"
     },
     "output_type": "display_data"
    }
   ],
   "source": [
    "from matplotlib.colors import ListedColormap\n",
    "X_set, y_set = X_test, y_test\n",
    "X1, X2 = np.meshgrid(np.arange(start = X_set[:, 0].min() - 1, stop = X_set[:, 0].max() + 1, step = 0.01),\n",
    "                     np.arange(start = X_set[:, 1].min() - 1, stop = X_set[:, 1].max() + 1, step = 0.01))\n",
    "plt.contourf(X1, X2, classifier.predict(np.array([X1.ravel(), X2.ravel()]).T).reshape(X1.shape),\n",
    "             alpha = 0.2, cmap = ListedColormap(('red', 'green')))\n",
    "plt.xlim(X1.min(), X1.max())\n",
    "plt.ylim(X2.min(), X2.max())\n",
    "for i, j in enumerate(np.unique(y_set)):\n",
    "    plt.scatter(X_set[y_set == j, 0], X_set[y_set == j, 1],\n",
    "                c = ListedColormap(('red', 'green'))(i), label = j)\n",
    "plt.title('Decision Tree Classification (Test set)')\n",
    "plt.xlabel('fuel efficency')\n",
    "plt.ylabel('sales in thousand')\n",
    "plt.legend()\n",
    "plt.show()"
   ]
  },
  {
   "cell_type": "code",
   "execution_count": 29,
   "metadata": {},
   "outputs": [
    {
     "name": "stdout",
     "output_type": "stream",
     "text": [
      "Accuracy is : 0.85\n"
     ]
    }
   ],
   "source": [
    "from sklearn import metrics\n",
    "acc=metrics.accuracy_score(y_test, y_pred)\n",
    "print(\"Accuracy is :\",acc)"
   ]
  },
  {
   "cell_type": "code",
   "execution_count": 30,
   "metadata": {},
   "outputs": [
    {
     "name": "stdout",
     "output_type": "stream",
     "text": [
      "              precision    recall  f1-score   support\n",
      "\n",
      "           0       0.67      0.67      0.67         9\n",
      "           1       0.90      0.90      0.90        31\n",
      "\n",
      "   micro avg       0.85      0.85      0.85        40\n",
      "   macro avg       0.78      0.78      0.78        40\n",
      "weighted avg       0.85      0.85      0.85        40\n",
      "\n"
     ]
    }
   ],
   "source": [
    "from sklearn.metrics import classification_report\n",
    "report = classification_report(y_test, y_pred)\n",
    "print(report)"
   ]
  },
  {
   "cell_type": "code",
   "execution_count": null,
   "metadata": {},
   "outputs": [],
   "source": []
  },
  {
   "cell_type": "code",
   "execution_count": null,
   "metadata": {},
   "outputs": [],
   "source": [
    "\n"
   ]
  },
  {
   "cell_type": "code",
   "execution_count": null,
   "metadata": {},
   "outputs": [],
   "source": []
  },
  {
   "cell_type": "code",
   "execution_count": null,
   "metadata": {},
   "outputs": [],
   "source": []
  },
  {
   "cell_type": "code",
   "execution_count": null,
   "metadata": {},
   "outputs": [],
   "source": []
  }
 ],
 "metadata": {
  "kernelspec": {
   "display_name": "Python 3",
   "language": "python",
   "name": "python3"
  },
  "language_info": {
   "codemirror_mode": {
    "name": "ipython",
    "version": 3
   },
   "file_extension": ".py",
   "mimetype": "text/x-python",
   "name": "python",
   "nbconvert_exporter": "python",
   "pygments_lexer": "ipython3",
   "version": "3.7.3"
  }
 },
 "nbformat": 4,
 "nbformat_minor": 4
}
